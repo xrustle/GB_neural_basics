{
 "cells": [
  {
   "cell_type": "markdown",
   "metadata": {
    "colab_type": "text",
    "id": "GB3vtPkhmcqI"
   },
   "source": [
    "# Практическое задание 1\n",
    "## Основы обучения нейронных сетей"
   ]
  },
  {
   "cell_type": "markdown",
   "metadata": {
    "colab_type": "text",
    "id": "iC8XZV8TmcqJ"
   },
   "source": [
    "Попробуйте видоизменить параметры разобранной на уроке двухслойной нейронной сети таким образом, чтобы улучшить ее точность. \n",
    "\n",
    "Проведите анализ — что приводит к ухудшению точности нейронной сети? Что приводит к увеличению ее точности?"
   ]
  },
  {
   "cell_type": "markdown",
   "metadata": {
    "colab_type": "text",
    "id": "UNS_qAQzmcqK"
   },
   "source": [
    "#### Решение\n",
    "Посмотрим на изменение ошибки при изменении начальных весов.\n",
    "\n",
    "Количество итераций ограничим минимальным размером ошибки `min_err_diff`. То есть, если ошибка практически перестанет изменяться, то можно остановить процесс."
   ]
  },
  {
   "cell_type": "code",
   "execution_count": 1,
   "metadata": {
    "colab": {
     "base_uri": "https://localhost:8080/",
     "height": 51
    },
    "colab_type": "code",
    "executionInfo": {
     "elapsed": 1297,
     "status": "ok",
     "timestamp": 1597072299930,
     "user": {
      "displayName": "Dmitry Batorov",
      "photoUrl": "https://lh3.googleusercontent.com/a-/AOh14GifSMgNKSYsc5yt8ovZkIdAQuV9SbZYF97rbcJgkg=s64",
      "userId": "17955106284390703841"
     },
     "user_tz": -180
    },
    "id": "jjtu9rJWmcqK",
    "outputId": "b69addff-c362-4e6f-9e1b-2c5ccf7a3a84"
   },
   "outputs": [],
   "source": [
    "import numpy as np\n",
    "import pandas as pd\n",
    "import seaborn as sns\n",
    "import matplotlib.pyplot as plt\n",
    "\n",
    "import warnings\n",
    "warnings.simplefilter(action='ignore')\n",
    "\n",
    "from sklearn import datasets\n",
    "from sklearn.model_selection import train_test_split"
   ]
  },
  {
   "cell_type": "markdown",
   "metadata": {
    "colab_type": "text",
    "id": "jMbx7xLxmcqO"
   },
   "source": [
    "### Функции обучения"
   ]
  },
  {
   "cell_type": "code",
   "execution_count": 2,
   "metadata": {
    "colab": {},
    "colab_type": "code",
    "executionInfo": {
     "elapsed": 1289,
     "status": "ok",
     "timestamp": 1597072299933,
     "user": {
      "displayName": "Dmitry Batorov",
      "photoUrl": "https://lh3.googleusercontent.com/a-/AOh14GifSMgNKSYsc5yt8ovZkIdAQuV9SbZYF97rbcJgkg=s64",
      "userId": "17955106284390703841"
     },
     "user_tz": -180
    },
    "id": "b00WbI3JmcqO"
   },
   "outputs": [],
   "source": [
    "def to_one_hot(Y):\n",
    "    n_col = np.amax(Y) + 1\n",
    "    binarized = np.zeros((len(Y), n_col))\n",
    "    for i in range(len(Y)):\n",
    "        binarized[i, Y[i]] = 1.\n",
    "    return binarized\n",
    "\n",
    "def sigmoid(x):\n",
    "    return 1/(1+np.exp(-x))\n",
    "\n",
    "def sigmoid_deriv(x):\n",
    "    return sigmoid(x)*(1 - sigmoid(x))\n",
    "\n",
    "def normalize(X, axis=-1, order=2):\n",
    "    l2 = np.atleast_1d(np.linalg.norm(X, order, axis))\n",
    "    l2[l2 == 0] = 1\n",
    "    return X / np.expand_dims(l2, axis)"
   ]
  },
  {
   "cell_type": "markdown",
   "metadata": {
    "colab_type": "text",
    "id": "zIYW3yitmcqR"
   },
   "source": [
    "### Формирование данных"
   ]
  },
  {
   "cell_type": "markdown",
   "metadata": {
    "colab_type": "text",
    "id": "bw58f8AQmcqR"
   },
   "source": [
    "Используем встроенный в библиотеку датасет"
   ]
  },
  {
   "cell_type": "code",
   "execution_count": 3,
   "metadata": {
    "colab": {},
    "colab_type": "code",
    "executionInfo": {
     "elapsed": 1284,
     "status": "ok",
     "timestamp": 1597072299935,
     "user": {
      "displayName": "Dmitry Batorov",
      "photoUrl": "https://lh3.googleusercontent.com/a-/AOh14GifSMgNKSYsc5yt8ovZkIdAQuV9SbZYF97rbcJgkg=s64",
      "userId": "17955106284390703841"
     },
     "user_tz": -180
    },
    "id": "T0w8KYwemcqS"
   },
   "outputs": [],
   "source": [
    "raw_data = datasets.load_iris()\n",
    "\n",
    "df = pd.DataFrame(raw_data['data'], columns=raw_data['feature_names'])\n",
    "df['target'] = raw_data['target']"
   ]
  },
  {
   "cell_type": "code",
   "execution_count": 4,
   "metadata": {
    "colab": {
     "base_uri": "https://localhost:8080/",
     "height": 204
    },
    "colab_type": "code",
    "executionInfo": {
     "elapsed": 1277,
     "status": "ok",
     "timestamp": 1597072299936,
     "user": {
      "displayName": "Dmitry Batorov",
      "photoUrl": "https://lh3.googleusercontent.com/a-/AOh14GifSMgNKSYsc5yt8ovZkIdAQuV9SbZYF97rbcJgkg=s64",
      "userId": "17955106284390703841"
     },
     "user_tz": -180
    },
    "id": "Bfg13VgemcqU",
    "outputId": "6d3f00aa-12ae-46a9-c861-567fad04f1d8"
   },
   "outputs": [
    {
     "data": {
      "text/html": [
       "<div>\n",
       "<style scoped>\n",
       "    .dataframe tbody tr th:only-of-type {\n",
       "        vertical-align: middle;\n",
       "    }\n",
       "\n",
       "    .dataframe tbody tr th {\n",
       "        vertical-align: top;\n",
       "    }\n",
       "\n",
       "    .dataframe thead th {\n",
       "        text-align: right;\n",
       "    }\n",
       "</style>\n",
       "<table border=\"1\" class=\"dataframe\">\n",
       "  <thead>\n",
       "    <tr style=\"text-align: right;\">\n",
       "      <th></th>\n",
       "      <th>sepal length (cm)</th>\n",
       "      <th>sepal width (cm)</th>\n",
       "      <th>petal length (cm)</th>\n",
       "      <th>petal width (cm)</th>\n",
       "      <th>target</th>\n",
       "    </tr>\n",
       "  </thead>\n",
       "  <tbody>\n",
       "    <tr>\n",
       "      <th>0</th>\n",
       "      <td>5.1</td>\n",
       "      <td>3.5</td>\n",
       "      <td>1.4</td>\n",
       "      <td>0.2</td>\n",
       "      <td>0</td>\n",
       "    </tr>\n",
       "    <tr>\n",
       "      <th>1</th>\n",
       "      <td>4.9</td>\n",
       "      <td>3.0</td>\n",
       "      <td>1.4</td>\n",
       "      <td>0.2</td>\n",
       "      <td>0</td>\n",
       "    </tr>\n",
       "    <tr>\n",
       "      <th>2</th>\n",
       "      <td>4.7</td>\n",
       "      <td>3.2</td>\n",
       "      <td>1.3</td>\n",
       "      <td>0.2</td>\n",
       "      <td>0</td>\n",
       "    </tr>\n",
       "    <tr>\n",
       "      <th>3</th>\n",
       "      <td>4.6</td>\n",
       "      <td>3.1</td>\n",
       "      <td>1.5</td>\n",
       "      <td>0.2</td>\n",
       "      <td>0</td>\n",
       "    </tr>\n",
       "    <tr>\n",
       "      <th>4</th>\n",
       "      <td>5.0</td>\n",
       "      <td>3.6</td>\n",
       "      <td>1.4</td>\n",
       "      <td>0.2</td>\n",
       "      <td>0</td>\n",
       "    </tr>\n",
       "  </tbody>\n",
       "</table>\n",
       "</div>"
      ],
      "text/plain": [
       "   sepal length (cm)  sepal width (cm)  ...  petal width (cm)  target\n",
       "0                5.1               3.5  ...               0.2       0\n",
       "1                4.9               3.0  ...               0.2       0\n",
       "2                4.7               3.2  ...               0.2       0\n",
       "3                4.6               3.1  ...               0.2       0\n",
       "4                5.0               3.6  ...               0.2       0\n",
       "\n",
       "[5 rows x 5 columns]"
      ]
     },
     "execution_count": 4,
     "metadata": {
      "tags": []
     },
     "output_type": "execute_result"
    }
   ],
   "source": [
    "df.head()"
   ]
  },
  {
   "cell_type": "code",
   "execution_count": 5,
   "metadata": {
    "colab": {},
    "colab_type": "code",
    "executionInfo": {
     "elapsed": 1271,
     "status": "ok",
     "timestamp": 1597072299938,
     "user": {
      "displayName": "Dmitry Batorov",
      "photoUrl": "https://lh3.googleusercontent.com/a-/AOh14GifSMgNKSYsc5yt8ovZkIdAQuV9SbZYF97rbcJgkg=s64",
      "userId": "17955106284390703841"
     },
     "user_tz": -180
    },
    "id": "BxLtDv_xmcqX"
   },
   "outputs": [],
   "source": [
    "X = np.array(df[raw_data['feature_names']])\n",
    "y = np.array(df['target'])"
   ]
  },
  {
   "cell_type": "markdown",
   "metadata": {
    "colab_type": "text",
    "id": "U9zH15PQmcqZ"
   },
   "source": [
    "#### Преобразование данных"
   ]
  },
  {
   "cell_type": "code",
   "execution_count": 6,
   "metadata": {
    "colab": {},
    "colab_type": "code",
    "executionInfo": {
     "elapsed": 1268,
     "status": "ok",
     "timestamp": 1597072299941,
     "user": {
      "displayName": "Dmitry Batorov",
      "photoUrl": "https://lh3.googleusercontent.com/a-/AOh14GifSMgNKSYsc5yt8ovZkIdAQuV9SbZYF97rbcJgkg=s64",
      "userId": "17955106284390703841"
     },
     "user_tz": -180
    },
    "id": "BQJbZ3Qymcqa"
   },
   "outputs": [],
   "source": [
    "X = normalize(X)\n",
    "y = to_one_hot(y)"
   ]
  },
  {
   "cell_type": "markdown",
   "metadata": {
    "colab_type": "text",
    "id": "VxiYL-7rmcqc"
   },
   "source": [
    "#### Разделение данных на тренировочные и тестовые"
   ]
  },
  {
   "cell_type": "code",
   "execution_count": 7,
   "metadata": {
    "colab": {},
    "colab_type": "code",
    "executionInfo": {
     "elapsed": 1262,
     "status": "ok",
     "timestamp": 1597072299943,
     "user": {
      "displayName": "Dmitry Batorov",
      "photoUrl": "https://lh3.googleusercontent.com/a-/AOh14GifSMgNKSYsc5yt8ovZkIdAQuV9SbZYF97rbcJgkg=s64",
      "userId": "17955106284390703841"
     },
     "user_tz": -180
    },
    "id": "tSglq3Ksmcqd"
   },
   "outputs": [],
   "source": [
    "X_train, X_test, y_train, y_test = train_test_split(X, y, test_size=0.33, shuffle=True, random_state=42)"
   ]
  },
  {
   "cell_type": "markdown",
   "metadata": {
    "colab_type": "text",
    "id": "6qQKH3XVmcqf"
   },
   "source": [
    "#### Обученние нейронной сети"
   ]
  },
  {
   "cell_type": "code",
   "execution_count": 8,
   "metadata": {
    "colab": {},
    "colab_type": "code",
    "executionInfo": {
     "elapsed": 1258,
     "status": "ok",
     "timestamp": 1597072299945,
     "user": {
      "displayName": "Dmitry Batorov",
      "photoUrl": "https://lh3.googleusercontent.com/a-/AOh14GifSMgNKSYsc5yt8ovZkIdAQuV9SbZYF97rbcJgkg=s64",
      "userId": "17955106284390703841"
     },
     "user_tz": -180
    },
    "id": "Cv6sQLrPmcqg"
   },
   "outputs": [],
   "source": [
    "def neural_network(learning_rate=1e-1, n_neurons=5, random_state=42):\n",
    "    # присваивание случайных весов\n",
    "    np.random.seed(random_state) \n",
    "    w0 = 2 * np.random.random((4, n_neurons)) - 1  # для входного слоя   - 4 входа, n_neurons выходов\n",
    "    w1 = 2 * np.random.random((n_neurons, 3)) - 1  # для внутреннего слоя - n_neurons входов, 3 выхода\n",
    "\n",
    "    # максимальное число итераций\n",
    "    n_iter = 1e7\n",
    "\n",
    "    # минимальное изменение ошибки\n",
    "    min_err_diff = 1e-12\n",
    "\n",
    "    # массив для ошибок, чтобы потом построить график\n",
    "    errors = []\n",
    "\n",
    "    # процесс обучения\n",
    "    error = np.inf  # Изначальную ошибку примем за бесконечно большую величину\n",
    "    for _ in range(int(n_iter)):\n",
    "\n",
    "        # прямое распространение(feed forward)\n",
    "        layer0 = X_train\n",
    "        layer1 = sigmoid(layer0 @ w0)\n",
    "        layer2 = sigmoid(layer1 @ w1)\n",
    "\n",
    "        # обратное распространение(back propagation) с использованием градиентного спуска\n",
    "        layer2_error = y_train - layer2\n",
    "        layer2_delta = layer2_error * sigmoid_deriv(layer2)\n",
    "\n",
    "        layer1_error = layer2_delta @ w1.T\n",
    "        layer1_delta = layer1_error * sigmoid_deriv(layer1)\n",
    "\n",
    "        w1 += layer1.T @ layer2_delta * learning_rate\n",
    "        w0 += layer0.T @ layer1_delta * learning_rate\n",
    "\n",
    "        # Новую ошибку сравниваем со старой. Если разница меньше заданного min_err_diff, то останавливаем процесс\n",
    "        error_new = np.mean(np.abs(layer2_error))\n",
    "        errors.append(error_new)\n",
    "        if np.abs(error - error_new) < min_err_diff:\n",
    "            break\n",
    "        error = error_new\n",
    "\n",
    "    accuracy = (1 - error) * 100\n",
    "    return accuracy"
   ]
  },
  {
   "cell_type": "markdown",
   "metadata": {
    "colab_type": "text",
    "id": "XaZiLCFRmcqi"
   },
   "source": [
    "#### Подбор параметров\n",
    "Перебираем значения скорости обучения и числа нейронов на скрытом слое."
   ]
  },
  {
   "cell_type": "code",
   "execution_count": 9,
   "metadata": {
    "colab": {},
    "colab_type": "code",
    "executionInfo": {
     "elapsed": 1252,
     "status": "ok",
     "timestamp": 1597072299946,
     "user": {
      "displayName": "Dmitry Batorov",
      "photoUrl": "https://lh3.googleusercontent.com/a-/AOh14GifSMgNKSYsc5yt8ovZkIdAQuV9SbZYF97rbcJgkg=s64",
      "userId": "17955106284390703841"
     },
     "user_tz": -180
    },
    "id": "GlCIpn5smcqi"
   },
   "outputs": [],
   "source": [
    "learning_rates_list = [1e-3, 3e-3, 1e-2, 3e-2, .1]"
   ]
  },
  {
   "cell_type": "code",
   "execution_count": 10,
   "metadata": {
    "colab": {},
    "colab_type": "code",
    "executionInfo": {
     "elapsed": 1246,
     "status": "ok",
     "timestamp": 1597072299947,
     "user": {
      "displayName": "Dmitry Batorov",
      "photoUrl": "https://lh3.googleusercontent.com/a-/AOh14GifSMgNKSYsc5yt8ovZkIdAQuV9SbZYF97rbcJgkg=s64",
      "userId": "17955106284390703841"
     },
     "user_tz": -180
    },
    "id": "SdGPdd4qbAcG"
   },
   "outputs": [],
   "source": [
    "n_neurons_list = [4, 5, 6, 7]"
   ]
  },
  {
   "cell_type": "code",
   "execution_count": 11,
   "metadata": {
    "colab": {
     "base_uri": "https://localhost:8080/",
     "height": 68
    },
    "colab_type": "code",
    "executionInfo": {
     "elapsed": 1254466,
     "status": "ok",
     "timestamp": 1597073968638,
     "user": {
      "displayName": "Dmitry Batorov",
      "photoUrl": "https://lh3.googleusercontent.com/a-/AOh14GifSMgNKSYsc5yt8ovZkIdAQuV9SbZYF97rbcJgkg=s64",
      "userId": "17955106284390703841"
     },
     "user_tz": -180
    },
    "id": "Z81vaI7Smcqk",
    "outputId": "f5c8e57b-260e-4886-b9ee-0ddeb5d771b9"
   },
   "outputs": [
    {
     "name": "stderr",
     "output_type": "stream",
     "text": [
      "100%|██████████| 20/20 [27:48<00:00, 83.44s/it]"
     ]
    },
    {
     "name": "stdout",
     "output_type": "stream",
     "text": [
      "CPU times: user 27min 38s, sys: 9.13 s, total: 27min 47s\n",
      "Wall time: 27min 48s\n"
     ]
    },
    {
     "name": "stderr",
     "output_type": "stream",
     "text": [
      "\n"
     ]
    }
   ],
   "source": [
    "%%time\n",
    "import itertools\n",
    "from tqdm import tqdm\n",
    "\n",
    "results = pd.DataFrame(\n",
    "    np.zeros((len(learning_rates_list), len(n_neurons_list))), \n",
    "    index=learning_rates_list, \n",
    "    columns=n_neurons_list)\n",
    "\n",
    "for learning_rate, n_neurons in tqdm(list(itertools.product(learning_rates_list, \n",
    "                                                            n_neurons_list))):\n",
    "    results.loc[learning_rate][n_neurons] = neural_network(learning_rate, n_neurons)"
   ]
  },
  {
   "cell_type": "code",
   "execution_count": 16,
   "metadata": {
    "colab": {
     "base_uri": "https://localhost:8080/",
     "height": 204
    },
    "colab_type": "code",
    "executionInfo": {
     "elapsed": 799,
     "status": "ok",
     "timestamp": 1597074018117,
     "user": {
      "displayName": "Dmitry Batorov",
      "photoUrl": "https://lh3.googleusercontent.com/a-/AOh14GifSMgNKSYsc5yt8ovZkIdAQuV9SbZYF97rbcJgkg=s64",
      "userId": "17955106284390703841"
     },
     "user_tz": -180
    },
    "id": "Fq5OjK7Fe_ab",
    "outputId": "19274ac6-ea74-421f-e510-11ce7adec686"
   },
   "outputs": [
    {
     "data": {
      "text/html": [
       "<div>\n",
       "<style scoped>\n",
       "    .dataframe tbody tr th:only-of-type {\n",
       "        vertical-align: middle;\n",
       "    }\n",
       "\n",
       "    .dataframe tbody tr th {\n",
       "        vertical-align: top;\n",
       "    }\n",
       "\n",
       "    .dataframe thead th {\n",
       "        text-align: right;\n",
       "    }\n",
       "</style>\n",
       "<table border=\"1\" class=\"dataframe\">\n",
       "  <thead>\n",
       "    <tr style=\"text-align: right;\">\n",
       "      <th></th>\n",
       "      <th>4</th>\n",
       "      <th>5</th>\n",
       "      <th>6</th>\n",
       "      <th>7</th>\n",
       "    </tr>\n",
       "  </thead>\n",
       "  <tbody>\n",
       "    <tr>\n",
       "      <th>0.001</th>\n",
       "      <td>97.732695</td>\n",
       "      <td>97.041693</td>\n",
       "      <td>97.764525</td>\n",
       "      <td>97.548279</td>\n",
       "    </tr>\n",
       "    <tr>\n",
       "      <th>0.003</th>\n",
       "      <td>97.732405</td>\n",
       "      <td>97.255103</td>\n",
       "      <td>97.764559</td>\n",
       "      <td>97.283701</td>\n",
       "    </tr>\n",
       "    <tr>\n",
       "      <th>0.010</th>\n",
       "      <td>97.534840</td>\n",
       "      <td>97.255062</td>\n",
       "      <td>97.764694</td>\n",
       "      <td>97.322851</td>\n",
       "    </tr>\n",
       "    <tr>\n",
       "      <th>0.030</th>\n",
       "      <td>97.084580</td>\n",
       "      <td>97.254891</td>\n",
       "      <td>97.765209</td>\n",
       "      <td>97.322805</td>\n",
       "    </tr>\n",
       "    <tr>\n",
       "      <th>0.100</th>\n",
       "      <td>97.083917</td>\n",
       "      <td>97.253367</td>\n",
       "      <td>97.041266</td>\n",
       "      <td>97.324955</td>\n",
       "    </tr>\n",
       "  </tbody>\n",
       "</table>\n",
       "</div>"
      ],
      "text/plain": [
       "               4          5          6          7\n",
       "0.001  97.732695  97.041693  97.764525  97.548279\n",
       "0.003  97.732405  97.255103  97.764559  97.283701\n",
       "0.010  97.534840  97.255062  97.764694  97.322851\n",
       "0.030  97.084580  97.254891  97.765209  97.322805\n",
       "0.100  97.083917  97.253367  97.041266  97.324955"
      ]
     },
     "execution_count": 16,
     "metadata": {
      "tags": []
     },
     "output_type": "execute_result"
    }
   ],
   "source": [
    "results"
   ]
  },
  {
   "cell_type": "code",
   "execution_count": 28,
   "metadata": {
    "colab": {
     "base_uri": "https://localhost:8080/",
     "height": 388
    },
    "colab_type": "code",
    "executionInfo": {
     "elapsed": 962,
     "status": "ok",
     "timestamp": 1597074500054,
     "user": {
      "displayName": "Dmitry Batorov",
      "photoUrl": "https://lh3.googleusercontent.com/a-/AOh14GifSMgNKSYsc5yt8ovZkIdAQuV9SbZYF97rbcJgkg=s64",
      "userId": "17955106284390703841"
     },
     "user_tz": -180
    },
    "id": "J0jGr6Eg7XXK",
    "outputId": "8d2ff272-8ed1-4cc9-e028-c692d588edfc"
   },
   "outputs": [
    {
     "data": {
      "image/png": "[encoded data removed]",
      "text/plain": [
       "<Figure size 432x432 with 2 Axes>"
      ]
     },
     "metadata": {
      "needs_background": "light",
      "tags": []
     },
     "output_type": "display_data"
    }
   ],
   "source": [
    "fig = plt.figure(figsize=(6, 6))\n",
    "heatmap = plt.pcolor(results)\n",
    "plt.yticks(np.arange(0.5, len(learning_rates_list), 1), learning_rates_list)\n",
    "plt.xticks(np.arange(0.5, len(n_neurons_list), 1), n_neurons_list)\n",
    "\n",
    "for y, x in itertools.product(np.arange(len(learning_rates_list)), np.arange(len(n_neurons_list))):\n",
    "    plt.text(\n",
    "        x + 0.5, \n",
    "        y + 0.5, \n",
    "        f'{results.iloc[y, x]:.2f}',\n",
    "        horizontalalignment='center',\n",
    "        verticalalignment='center'\n",
    "    )\n",
    "\n",
    "plt.xlabel('Число нейронов в скрытом слое')\n",
    "plt.ylabel('Скорость обучения')\n",
    "\n",
    "plt.colorbar(heatmap)\n",
    "plt.show()"
   ]
  },
  {
   "cell_type": "markdown",
   "metadata": {
    "colab_type": "text",
    "id": "ZRTjTOz1mcqn"
   },
   "source": [
    "#### Выводы\n"
   ]
  },
  {
   "cell_type": "markdown",
   "metadata": {
    "colab_type": "text",
    "id": "TioTJhQhmcqn"
   },
   "source": [
    "Наблюдаем незначительные изменения точности.\n",
    "\n",
    "При увеличении шага обучения, обучение происходит быстрее, но с меньшей точностью.\n",
    "\n",
    "Но мы сделали раннюю остановку, чтобы не проходить по всем шагам, при отсутствии изменения точности.\n",
    "\n",
    "Видим, что модель обучается по-разному для разного числа нейронов в скрытом слое.\n",
    "Если судить по нашему опыту, то лучше подойдет иметь 6 нейронов в скрытом слое."
   ]
  }
 ],
 "metadata": {
  "colab": {
   "collapsed_sections": [],
   "name": "Homework_1.ipynb",
   "provenance": []
  },
  "kernelspec": {
   "display_name": "Python 3",
   "language": "python",
   "name": "python3"
  },
  "language_info": {
   "codemirror_mode": {
    "name": "ipython",
    "version": 3
   },
   "file_extension": ".py",
   "mimetype": "text/x-python",
   "name": "python",
   "nbconvert_exporter": "python",
   "pygments_lexer": "ipython3",
   "version": "3.8.3"
  }
 },
 "nbformat": 4,
 "nbformat_minor": 1
}
